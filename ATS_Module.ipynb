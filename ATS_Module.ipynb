{
  "nbformat": 4,
  "nbformat_minor": 0,
  "metadata": {
    "colab": {
      "name": "ATS_Module.ipynb",
      "provenance": [],
      "collapsed_sections": [],
      "mount_file_id": "1_6ZEuOsmZYQNcTBSPiutkNpYXwSC0ta9",
      "authorship_tag": "ABX9TyNLYGlZWNZrP20c1L0XIWE5",
      "include_colab_link": true
    },
    "kernelspec": {
      "name": "python3",
      "display_name": "Python 3"
    }
  },
  "cells": [
    {
      "cell_type": "markdown",
      "metadata": {
        "id": "view-in-github",
        "colab_type": "text"
      },
      "source": [
        "<a href=\"https://colab.research.google.com/github/markeldon32/wordy_gurdy/blob/master/ATS_Module.ipynb\" target=\"_parent\"><img src=\"https://colab.research.google.com/assets/colab-badge.svg\" alt=\"Open In Colab\"/></a>"
      ]
    },
    {
      "cell_type": "markdown",
      "metadata": {
        "id": "x7Az3agySIKY",
        "colab_type": "text"
      },
      "source": [
        "Program to analyze a Resume and Job Description for matches."
      ]
    },
    {
      "cell_type": "code",
      "metadata": {
        "id": "vRrp4haNSEK7",
        "colab_type": "code",
        "outputId": "8243f8d8-5c70-4763-d00a-4cdca486076f",
        "colab": {
          "base_uri": "https://localhost:8080/",
          "height": 199
        }
      },
      "source": [
        "#Install docx2txt package\n",
        "pip install docx2txt"
      ],
      "execution_count": 0,
      "outputs": [
        {
          "output_type": "stream",
          "text": [
            "Collecting docx2txt\n",
            "  Downloading https://files.pythonhosted.org/packages/7d/7d/60ee3f2b16d9bfdfa72e8599470a2c1a5b759cb113c6fe1006be28359327/docx2txt-0.8.tar.gz\n",
            "Building wheels for collected packages: docx2txt\n",
            "  Building wheel for docx2txt (setup.py) ... \u001b[?25l\u001b[?25hdone\n",
            "  Created wheel for docx2txt: filename=docx2txt-0.8-cp36-none-any.whl size=3963 sha256=3bb9e237623603bad49d549faf3a009718e63220eed20d5ec90f69905afd6129\n",
            "  Stored in directory: /root/.cache/pip/wheels/b2/1f/26/a051209bbb77fc6bcfae2bb7e01fa0ff941b82292ab084d596\n",
            "Successfully built docx2txt\n",
            "Installing collected packages: docx2txt\n",
            "Successfully installed docx2txt-0.8\n"
          ],
          "name": "stdout"
        }
      ]
    },
    {
      "cell_type": "code",
      "metadata": {
        "id": "rGYMacIGTowm",
        "colab_type": "code",
        "colab": {}
      },
      "source": [
        "#Libraries Used\n",
        "import docx2txt"
      ],
      "execution_count": 0,
      "outputs": []
    },
    {
      "cell_type": "code",
      "metadata": {
        "id": "bgjGVyjCUAWL",
        "colab_type": "code",
        "colab": {}
      },
      "source": [
        "#store the resume as a variable\n",
        "resume = docx2txt.process('/content/drive/My Drive/Colab Notebooks/maria lisa.docx')"
      ],
      "execution_count": 0,
      "outputs": []
    },
    {
      "cell_type": "code",
      "metadata": {
        "id": "rSEfBnkkJ17-",
        "colab_type": "code",
        "colab": {}
      },
      "source": [
        "#store Job Description as a variable\n",
        "jobdesc = docx2txt.process('/content/drive/My Drive/Colab Notebooks/Google Software Engineer.docx')"
      ],
      "execution_count": 0,
      "outputs": []
    },
    {
      "cell_type": "code",
      "metadata": {
        "id": "M3FTjhjnKVHr",
        "colab_type": "code",
        "colab": {}
      },
      "source": [
        "#create a list of texts\n",
        "text = [resume, jobdesc]"
      ],
      "execution_count": 0,
      "outputs": []
    },
    {
      "cell_type": "code",
      "metadata": {
        "id": "P9kMtRA0MCGO",
        "colab_type": "code",
        "colab": {}
      },
      "source": [
        "# import CountVectorizer from sklearn\n",
        "from sklearn.feature_extraction.text import CountVectorizer\n",
        "cv = CountVectorizer()\n",
        "count_matrix = cv.fit_transform(text)"
      ],
      "execution_count": 0,
      "outputs": []
    },
    {
      "cell_type": "code",
      "metadata": {
        "id": "BizXNiNpNKSF",
        "colab_type": "code",
        "outputId": "da3daa04-dea0-4398-8266-1c8e28e865b3",
        "colab": {
          "base_uri": "https://localhost:8080/",
          "height": 89
        }
      },
      "source": [
        "#Use cosine similartity from sklearn\n",
        "from sklearn.metrics.pairwise import cosine_similarity\n",
        "\n",
        "print('\\nSimilarity Scores: ')\n",
        "print(cosine_similarity(count_matrix))\n"
      ],
      "execution_count": 0,
      "outputs": [
        {
          "output_type": "stream",
          "text": [
            "\n",
            "Similarity Scores: \n",
            "[[1.         0.53006864]\n",
            " [0.53006864 1.        ]]\n"
          ],
          "name": "stdout"
        }
      ]
    },
    {
      "cell_type": "code",
      "metadata": {
        "id": "0YIrX-TuObQS",
        "colab_type": "code",
        "outputId": "80b3ca54-7ad6-4207-9538-8ef8d309e3f9",
        "colab": {
          "base_uri": "https://localhost:8080/",
          "height": 35
        }
      },
      "source": [
        "#get match percentage\n",
        "matchpercent = cosine_similarity(count_matrix)[0][1] * 100\n",
        "matchpercent = round(matchpercent, 2) #round to two decimal places\n",
        "print('Your resume matches about ' + str(matchpercent) + '% of the job description.')"
      ],
      "execution_count": 0,
      "outputs": [
        {
          "output_type": "stream",
          "text": [
            "Your resume matches about 53.01% of the job description.\n"
          ],
          "name": "stdout"
        }
      ]
    }
  ]
}